{
 "cells": [
  {
   "cell_type": "markdown",
   "metadata": {},
   "source": [
    "Analysis of Estimation Error\n",
    "=======================\n",
    "\n",
    "**Requirements**:\n",
    "- The [evo](https://github.com/MichaelGrupp/evo) Python package\n",
    "    - Can be installed with `pip2 install evo -U --user`\n",
    "- Python 2 kernel (for `import rosbag`)\n",
    "- make sure you enabled interactive widgets via:\n",
    "    ```\n",
    "    jupyter nbextension enable --py widgetsnbextension\n",
    "    ```\n",
    "- rosbags with `geometry_msgs/PoseStamped`, `geometry_msgs/TransformStamped`, `geometry_msgs/PoseWithCovarianceStamped` or `nav_msgs/Odometry` topics.\n",
    "\n",
    "*Based on evo's [`metrics_interactive`](https://github.com/MichaelGrupp/evo/tree/master/notebooks) notebook for interactive widgets.*"
   ]
  },
  {
   "cell_type": "code",
   "execution_count": 1,
   "metadata": {},
   "outputs": [
    {
     "name": "stdout",
     "output_type": "stream",
     "text": [
      "\u001b[93mInitialized new /home/plusk01/.evo/settings.json\u001b[39m\n"
     ]
    }
   ],
   "source": [
    "from __future__ import print_function\n",
    "\n",
    "from evo.tools import log\n",
    "log.configure_logging()"
   ]
  },
  {
   "cell_type": "code",
   "execution_count": 2,
   "metadata": {},
   "outputs": [],
   "source": [
    "from evo.tools import plot\n",
    "from evo.tools.plot import PlotMode\n",
    "from evo.core.metrics import PoseRelation, Unit\n",
    "from evo.tools.settings import SETTINGS\n",
    "\n",
    "# temporarily override some package settings\n",
    "SETTINGS.plot_figsize = [6, 6]\n",
    "SETTINGS.plot_split = True\n",
    "SETTINGS.plot_usetex = False\n",
    "\n",
    "# magic plot configuration\n",
    "import matplotlib.pyplot as plt\n",
    "%matplotlib inline\n",
    "%matplotlib notebook"
   ]
  },
  {
   "cell_type": "code",
   "execution_count": 3,
   "metadata": {},
   "outputs": [],
   "source": [
    "# interactive widgets configuration\n",
    "import ipywidgets\n",
    "\n",
    "check_opts_ape = {\"align\": True, \"correct_scale\": False, \"show_plot\": True}\n",
    "check_boxes_ape=[ipywidgets.Checkbox(description=desc, value=val) for desc, val in check_opts_ape.items()]\n",
    "check_opts_rpe = {\"align\": True, \"correct_scale\": False, \"all_pairs\": False, \"show_plot\": True}\n",
    "check_boxes_rpe=[ipywidgets.Checkbox(description=desc, value=val) for desc, val in check_opts_rpe.items()]\n",
    "delta_input = ipywidgets.FloatText(value=1.0, description='delta', disabled=False, color='black')\n",
    "du_selector=ipywidgets.Dropdown(\n",
    "    options={u.value: u for u in Unit},\n",
    "    value=Unit.frames, description='delta_unit'\n",
    ")\n",
    "pm_selector=ipywidgets.Dropdown(\n",
    "    options={p.value: p for p in PlotMode},\n",
    "    value=PlotMode.xy, description='plot_mode'\n",
    ")\n",
    "pr_selector=ipywidgets.Dropdown(\n",
    "    options={p.value: p for p in PoseRelation},\n",
    "    value=PoseRelation.translation_part, description='pose_relation'\n",
    ")"
   ]
  },
  {
   "cell_type": "markdown",
   "metadata": {},
   "source": [
    "## Load Trajectories"
   ]
  },
  {
   "cell_type": "code",
   "execution_count": 4,
   "metadata": {},
   "outputs": [],
   "source": [
    "from evo.core.trajectory import PoseTrajectory3D\n",
    "\n",
    "def trimTrajectory(traj, m, n):\n",
    "    ps = traj.positions_xyz[m:-n]\n",
    "    qs = traj.orientations_quat_wxyz[m:-n]\n",
    "    ts = traj.timestamps[m:-n]\n",
    "\n",
    "    return PoseTrajectory3D(ps, qs, ts, meta=traj.meta)"
   ]
  },
  {
   "cell_type": "code",
   "execution_count": 58,
   "metadata": {},
   "outputs": [],
   "source": [
    "import numpy as np\n",
    "from evo.core import lie_algebra as lie\n",
    "from evo.core import transformations as tr\n",
    "\n",
    "def poseCMA(m, T, Tmeas):\n",
    "    p, q = T\n",
    "    pmeas, qmeas = Tmeas\n",
    "    \n",
    "    p = 1/(m+1) * ( m*p + pmeas )\n",
    "    q = tr.quaternion_slerp(q, qmeas, 1/(m+1))\n",
    "    \n",
    "    \n",
    "\n",
    "def registerCoordinateFrames(trajW, trajV, n=200):\n",
    "    '''\n",
    "    VICON and VISLAM (should) describe the same dynamical motion,\n",
    "    albeit in different frames. The\n",
    "    '''\n",
    "    \n",
    "    # T_WV is the pose of the VISLAM coordinate system w.r.t.\n",
    "    # the world (VICON), which we initialize as identity.\n",
    "    T_WV = (np.array([1., 0., 0., 0.]), np.array([0., 0., 0.]))\n",
    "    \n",
    "    # calculate a cumulative moving average filter on T_WV\n",
    "    # x_n+1 = 1/(n+1) [ n*x_n + newMeas ]\n",
    "    \n",
    "    for i in range(n):\n",
    "        # body w.r.t world (VICON)\n",
    "        T_WB = (trajW.orientations_quat_wxyz[i], trajW.positions_xyz[i])\n",
    "        \n",
    "        # body w.r.t VISLAM\n",
    "        T_VB = (trajV.orientations_quat_wxyz[i], trajV.positions_xyz[i])\n",
    "        \n",
    "        # calculate relative transformation of VISLAM w.r.t world (VICON)\n",
    "        q_WV = np.array([1., 0., 0., 0.])\n",
    "        p_WV = np.array([0., 0., 0.])\n",
    "        T_WV_measurement = (q_WV, p_WV)\n",
    "        \n",
    "        # update the cumulative moving average of the pose\n",
    "        T_WV = poseCMA(i, T_WV, T_WV_measurement)\n",
    "    \n",
    "    return T_WV"
   ]
  },
  {
   "cell_type": "code",
   "execution_count": 23,
   "metadata": {
    "scrolled": false
   },
   "outputs": [],
   "source": [
    "# import rosbag\n",
    "from evo.tools import file_interface\n",
    "from evo.core import sync\n",
    "\n",
    "# # Load bag with all topics\n",
    "# bag = '/home/plusk01/Documents/bags/hx01/vio_test_2.bag'\n",
    "# bag_handle = rosbag.Bag(bag)\n",
    "\n",
    "# load ORB_SLAM3 trajectory\n",
    "traj_orbslam = file_interface.read_tum_trajectory_file(\"/home/plusk01/.ros/orbslam3_traj_tum.txt\")\n",
    "\n",
    "# load ground truth trajectory\n",
    "traj_truth = file_interface.read_tum_trajectory_file(\"/home/plusk01/.ros/truth_traj_tum.txt\")\n",
    "\n",
    "# # Trim trajectories\n",
    "# n = 200\n",
    "# # traj_vicon = trimTrajectory(traj_vicon, n)\n",
    "# traj_vislam = trimTrajectory(traj_vislam, 300, 300)\n",
    "\n",
    "# time sync the trajectories\n",
    "traj_ref, traj_est = sync.associate_trajectories(traj_truth, traj_orbslam)"
   ]
  },
  {
   "cell_type": "code",
   "execution_count": 24,
   "metadata": {},
   "outputs": [
    {
     "name": "stdout",
     "output_type": "stream",
     "text": [
      "7281 poses, 247.719m path length, 279.860s duration\n",
      "7281 poses, 487.048m path length, 279.861s duration\n"
     ]
    }
   ],
   "source": [
    "print(traj_ref)\n",
    "print(traj_est)"
   ]
  },
  {
   "cell_type": "markdown",
   "metadata": {},
   "source": [
    "## Absolute Pose Error (APE)\n",
    "\n",
    "Also known as *Absolute Trajectory Error* (ATE)."
   ]
  },
  {
   "cell_type": "code",
   "execution_count": 25,
   "metadata": {},
   "outputs": [
    {
     "data": {
      "application/vnd.jupyter.widget-view+json": {
       "model_id": "a3b72d592a9a4ae282c7083f569ca984",
       "version_major": 2,
       "version_minor": 0
      },
      "text/plain": [
       "interactive(children=(Dropdown(description='pose_relation', index=1, options={'full transformation': <PoseRela…"
      ]
     },
     "metadata": {},
     "output_type": "display_data"
    }
   ],
   "source": [
    "import evo.main_ape as main_ape\n",
    "import evo.common_ape_rpe as common\n",
    "import copy\n",
    "\n",
    "count = 0\n",
    "results = []\n",
    "\n",
    "def callback_ape(pose_relation, align, correct_scale, plot_mode, show_plot):\n",
    "    global results, count\n",
    "    est_name=\"APE Test #{}\".format(count)\n",
    "    \n",
    "    traj_ref1 = copy.deepcopy(traj_ref)\n",
    "    traj_est1 = copy.deepcopy(traj_est)\n",
    "    \n",
    "    result = main_ape.ape(traj_ref1, traj_est1, est_name=est_name,\n",
    "                          pose_relation=pose_relation, align=align, correct_scale=correct_scale)\n",
    "    count += 1\n",
    "    results.append(result)\n",
    "    \n",
    "    if show_plot:\n",
    "        fig = plt.figure()\n",
    "        ax = plot.prepare_axis(fig, plot_mode)\n",
    "        plot.traj(ax, plot_mode, traj_ref, style=\"--\", alpha=0.5)\n",
    "        plot.traj_colormap(\n",
    "            ax, result.trajectories[est_name], result.np_arrays[\"error_array\"], plot_mode,\n",
    "            min_map=result.stats[\"min\"], max_map=result.stats[\"max\"])\n",
    "\n",
    "_ = ipywidgets.interact_manual(callback_ape, pose_relation=pr_selector, plot_mode=pm_selector,\n",
    "                               **{c.description: c.value for c in check_boxes_ape})"
   ]
  },
  {
   "cell_type": "markdown",
   "metadata": {},
   "source": [
    "## Relative Pose Error (RPE)\n",
    "\n",
    "Also known as *Relative Trajectory Error* (RTE)."
   ]
  },
  {
   "cell_type": "code",
   "execution_count": 12,
   "metadata": {},
   "outputs": [
    {
     "data": {
      "application/vnd.jupyter.widget-view+json": {
       "model_id": "07d3bf97dd2e42728c9a8f4c029464ec",
       "version_major": 2,
       "version_minor": 0
      },
      "text/plain": [
       "interactive(children=(Dropdown(description='pose_relation', index=1, options={'full transformation': <PoseRela…"
      ]
     },
     "metadata": {},
     "output_type": "display_data"
    }
   ],
   "source": [
    "import evo.main_rpe as main_rpe\n",
    "\n",
    "count = 0\n",
    "results = []\n",
    "\n",
    "def callback_rpe(pose_relation, delta, delta_unit, all_pairs, align, correct_scale, plot_mode, show_plot):\n",
    "    global results, count\n",
    "    est_name=\"RPE Test #{}\".format(count)\n",
    "    result = main_rpe.rpe(traj_ref, traj_est, est_name=est_name,\n",
    "                          pose_relation=pose_relation, delta=delta, delta_unit=delta_unit, \n",
    "                          all_pairs=all_pairs, align=align, correct_scale=correct_scale, \n",
    "                          support_loop=True)\n",
    "    count += 1\n",
    "    results.append(result)\n",
    "    \n",
    "    if show_plot:\n",
    "        fig = plt.figure()\n",
    "        ax = plot.prepare_axis(fig, plot_mode)\n",
    "        plot.traj(ax, plot_mode, traj_ref, style=\"--\", alpha=0.5)\n",
    "        plot.traj_colormap(\n",
    "            ax, result.trajectories[est_name], result.np_arrays[\"error_array\"], plot_mode,\n",
    "            min_map=result.stats[\"min\"], max_map=result.stats[\"max\"])\n",
    "\n",
    "_ = ipywidgets.interact_manual(callback_rpe, pose_relation=pr_selector, plot_mode=pm_selector, \n",
    "                               delta=delta_input, delta_unit=du_selector, \n",
    "                               **{c.description: c.value for c in check_boxes_rpe})"
   ]
  },
  {
   "cell_type": "code",
   "execution_count": null,
   "metadata": {},
   "outputs": [],
   "source": []
  }
 ],
 "metadata": {
  "kernelspec": {
   "display_name": "Python 2",
   "language": "python",
   "name": "python2"
  },
  "language_info": {
   "codemirror_mode": {
    "name": "ipython",
    "version": 3
   },
   "file_extension": ".py",
   "mimetype": "text/x-python",
   "name": "python",
   "nbconvert_exporter": "python",
   "pygments_lexer": "ipython3",
   "version": "3.6.9"
  },
  "varInspector": {
   "cols": {
    "lenName": 16,
    "lenType": 16,
    "lenVar": 40
   },
   "kernels_config": {
    "python": {
     "delete_cmd_postfix": "",
     "delete_cmd_prefix": "del ",
     "library": "var_list.py",
     "varRefreshCmd": "print(var_dic_list())"
    },
    "r": {
     "delete_cmd_postfix": ") ",
     "delete_cmd_prefix": "rm(",
     "library": "var_list.r",
     "varRefreshCmd": "cat(var_dic_list()) "
    }
   },
   "types_to_exclude": [
    "module",
    "function",
    "builtin_function_or_method",
    "instance",
    "_Feature"
   ],
   "window_display": false
  }
 },
 "nbformat": 4,
 "nbformat_minor": 2
}
